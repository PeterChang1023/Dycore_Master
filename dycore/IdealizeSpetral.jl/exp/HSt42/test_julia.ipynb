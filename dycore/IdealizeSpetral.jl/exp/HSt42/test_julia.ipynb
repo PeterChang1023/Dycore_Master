{
 "cells": [
  {
   "cell_type": "code",
   "execution_count": 111,
   "id": "046d58c9-9731-4d49-9fa9-0ce88942ca92",
   "metadata": {},
   "outputs": [
    {
     "name": "stdout",
     "output_type": "stream",
     "text": [
      "[4.0 3.0 0.0 0.0; 0.0 0.0 0.0 0.0](2, 4)"
     ]
    },
    {
     "ename": "LoadError",
     "evalue": "MethodError: no method matching mean(::Float64; dims::Int64)\n\n\u001b[0mClosest candidates are:\n\u001b[0m  mean(::Any)\u001b[91m got unsupported keyword argument \"dims\"\u001b[39m\n\u001b[0m\u001b[90m   @\u001b[39m \u001b[35mStatistics\u001b[39m \u001b[90m~/.julia/juliaup/julia-1.9.3+0.x64.linux.gnu/share/julia/stdlib/v1.9/Statistics/src/\u001b[39m\u001b[90m\u001b[4mStatistics.jl:44\u001b[24m\u001b[39m\n\u001b[0m  mean(::Any, \u001b[91m::AbstractArray\u001b[39m; dims)\n\u001b[0m\u001b[90m   @\u001b[39m \u001b[35mStatistics\u001b[39m \u001b[90m~/.julia/juliaup/julia-1.9.3+0.x64.linux.gnu/share/julia/stdlib/v1.9/Statistics/src/\u001b[39m\u001b[90m\u001b[4mStatistics.jl:104\u001b[24m\u001b[39m\n\u001b[0m  mean(::Any, \u001b[91m::Any\u001b[39m)\u001b[91m got unsupported keyword argument \"dims\"\u001b[39m\n\u001b[0m\u001b[90m   @\u001b[39m \u001b[35mStatistics\u001b[39m \u001b[90m~/.julia/juliaup/julia-1.9.3+0.x64.linux.gnu/share/julia/stdlib/v1.9/Statistics/src/\u001b[39m\u001b[90m\u001b[4mStatistics.jl:61\u001b[24m\u001b[39m\n\u001b[0m  ...\n",
     "output_type": "error",
     "traceback": [
      "MethodError: no method matching mean(::Float64; dims::Int64)\n\n\u001b[0mClosest candidates are:\n\u001b[0m  mean(::Any)\u001b[91m got unsupported keyword argument \"dims\"\u001b[39m\n\u001b[0m\u001b[90m   @\u001b[39m \u001b[35mStatistics\u001b[39m \u001b[90m~/.julia/juliaup/julia-1.9.3+0.x64.linux.gnu/share/julia/stdlib/v1.9/Statistics/src/\u001b[39m\u001b[90m\u001b[4mStatistics.jl:44\u001b[24m\u001b[39m\n\u001b[0m  mean(::Any, \u001b[91m::AbstractArray\u001b[39m; dims)\n\u001b[0m\u001b[90m   @\u001b[39m \u001b[35mStatistics\u001b[39m \u001b[90m~/.julia/juliaup/julia-1.9.3+0.x64.linux.gnu/share/julia/stdlib/v1.9/Statistics/src/\u001b[39m\u001b[90m\u001b[4mStatistics.jl:104\u001b[24m\u001b[39m\n\u001b[0m  mean(::Any, \u001b[91m::Any\u001b[39m)\u001b[91m got unsupported keyword argument \"dims\"\u001b[39m\n\u001b[0m\u001b[90m   @\u001b[39m \u001b[35mStatistics\u001b[39m \u001b[90m~/.julia/juliaup/julia-1.9.3+0.x64.linux.gnu/share/julia/stdlib/v1.9/Statistics/src/\u001b[39m\u001b[90m\u001b[4mStatistics.jl:61\u001b[24m\u001b[39m\n\u001b[0m  ...\n",
      "",
      "Stacktrace:",
      " [1] (::Base.Broadcast.var\"#43#44\"{Base.Pairs{Symbol, Int64, Tuple{Symbol}, NamedTuple{(:dims,), Tuple{Int64}}}, typeof(mean)})(args::Float64)",
      "   @ Base.Broadcast ./broadcast.jl:1297",
      " [2] _broadcast_getindex_evalf",
      "   @ ./broadcast.jl:683 [inlined]",
      " [3] _broadcast_getindex",
      "   @ ./broadcast.jl:656 [inlined]",
      " [4] getindex",
      "   @ ./broadcast.jl:610 [inlined]",
      " [5] copy",
      "   @ ./broadcast.jl:912 [inlined]",
      " [6] materialize(bc::Base.Broadcast.Broadcasted{Base.Broadcast.DefaultArrayStyle{2}, Nothing, Base.Broadcast.var\"#43#44\"{Base.Pairs{Symbol, Int64, Tuple{Symbol}, NamedTuple{(:dims,), Tuple{Int64}}}, typeof(mean)}, Tuple{Matrix{Float64}}})",
      "   @ Base.Broadcast ./broadcast.jl:873",
      " [7] top-level scope",
      "   @ In[111]:10"
     ]
    }
   ],
   "source": [
    "using Statistics\n",
    "x = zeros((2,4))\n",
    "x[1,2] = 3\n",
    "x[1,1] = 4\n",
    "print(x)\n",
    "y = [11,2,3,10,23,42]\n",
    "# ifelse.(x.< 5, x, x.+10)\n",
    "# print(x[x .>5])\n",
    "print(size(x))\n",
    "print(size(mean.(x[1:2,:], dims=1)))"
   ]
  },
  {
   "cell_type": "code",
   "execution_count": 70,
   "id": "3862d1cb-af59-40d1-8a44-093d9797468c",
   "metadata": {},
   "outputs": [
    {
     "name": "stdout",
     "output_type": "stream",
     "text": [
      "Bool[0, 1, 1, 1, 1, 1]false"
     ]
    },
    {
     "ename": "LoadError",
     "evalue": "TypeError: non-boolean (BitVector) used in boolean context",
     "output_type": "error",
     "traceback": [
      "TypeError: non-boolean (BitVector) used in boolean context",
      "",
      "Stacktrace:",
      " [1] top-level scope",
      "   @ In[70]:3"
     ]
    }
   ],
   "source": [
    "print((x .>1))\n",
    "print(all(x .>1))\n",
    "if x .>1 in 5\n",
    "    x -= 1\n",
    "end"
   ]
  },
  {
   "cell_type": "code",
   "execution_count": 61,
   "id": "1e5b2bfb-9638-4cb0-8766-34cc567fed69",
   "metadata": {},
   "outputs": [
    {
     "ename": "LoadError",
     "evalue": "TypeError: non-boolean (BitVector) used in boolean context",
     "output_type": "error",
     "traceback": [
      "TypeError: non-boolean (BitVector) used in boolean context",
      "",
      "Stacktrace:",
      " [1] top-level scope",
      "   @ In[61]:1"
     ]
    }
   ],
   "source": [
    "if (x.>1)\n",
    "    print(\"hi\")\n",
    "end"
   ]
  },
  {
   "cell_type": "code",
   "execution_count": null,
   "id": "6a2a0f47-e04b-4ccb-a02c-b9b38f71ad77",
   "metadata": {},
   "outputs": [],
   "source": []
  }
 ],
 "metadata": {
  "kernelspec": {
   "display_name": "Julia 1.9.3",
   "language": "julia",
   "name": "julia-1.9"
  },
  "language_info": {
   "file_extension": ".jl",
   "mimetype": "application/julia",
   "name": "julia",
   "version": "1.9.3"
  }
 },
 "nbformat": 4,
 "nbformat_minor": 5
}
