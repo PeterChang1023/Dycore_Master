{
 "cells": [
  {
   "cell_type": "code",
   "execution_count": 8,
   "id": "046d58c9-9731-4d49-9fa9-0ce88942ca92",
   "metadata": {},
   "outputs": [
    {
     "ename": "LoadError",
     "evalue": "UndefVarError: `nanmean` not defined",
     "output_type": "error",
     "traceback": [
      "UndefVarError: `nanmean` not defined",
      "",
      "Stacktrace:",
      " [1] top-level scope",
      "   @ In[8]:11"
     ]
    }
   ],
   "source": [
    "using Statistics\n",
    "x = zeros((2,4))\n",
    "x[1,2] = 3\n",
    "x[1,1] = 4\n",
    "# print(x)\n",
    "y = [11,2,3,10,23,42]\n",
    "# ifelse.(x.< 5, x, x.+10)\n",
    "# print(x[x .>5])\n",
    "# print(size(x))\n",
    "# print(size(mean(x[1:2,:], dims=1)))\n",
    "mean(filter(!isnan,x), dims=1)\n"
   ]
  },
  {
   "cell_type": "code",
   "execution_count": 70,
   "id": "3862d1cb-af59-40d1-8a44-093d9797468c",
   "metadata": {},
   "outputs": [
    {
     "name": "stdout",
     "output_type": "stream",
     "text": [
      "Bool[0, 1, 1, 1, 1, 1]false"
     ]
    },
    {
     "ename": "LoadError",
     "evalue": "TypeError: non-boolean (BitVector) used in boolean context",
     "output_type": "error",
     "traceback": [
      "TypeError: non-boolean (BitVector) used in boolean context",
      "",
      "Stacktrace:",
      " [1] top-level scope",
      "   @ In[70]:3"
     ]
    }
   ],
   "source": [
    "print((x .>1))\n",
    "print(all(x .>1))\n",
    "if x .>1 in 5\n",
    "    x -= 1\n",
    "end"
   ]
  },
  {
   "cell_type": "code",
   "execution_count": 61,
   "id": "1e5b2bfb-9638-4cb0-8766-34cc567fed69",
   "metadata": {},
   "outputs": [
    {
     "ename": "LoadError",
     "evalue": "TypeError: non-boolean (BitVector) used in boolean context",
     "output_type": "error",
     "traceback": [
      "TypeError: non-boolean (BitVector) used in boolean context",
      "",
      "Stacktrace:",
      " [1] top-level scope",
      "   @ In[61]:1"
     ]
    }
   ],
   "source": [
    "if (x.>1)\n",
    "    print(\"hi\")\n",
    "end"
   ]
  },
  {
   "cell_type": "code",
   "execution_count": 1,
   "id": "6a2a0f47-e04b-4ccb-a02c-b9b38f71ad77",
   "metadata": {},
   "outputs": [
    {
     "ename": "LoadError",
     "evalue": "UndefVarError: `x` not defined",
     "output_type": "error",
     "traceback": [
      "UndefVarError: `x` not defined",
      ""
     ]
    }
   ],
   "source": [
    "x"
   ]
  },
  {
   "cell_type": "markdown",
   "metadata": {},
   "source": []
  }
 ],
 "metadata": {
  "kernelspec": {
   "display_name": "Julia 1.9.3",
   "language": "julia",
   "name": "julia-1.9"
  },
  "language_info": {
   "file_extension": ".jl",
   "mimetype": "application/julia",
   "name": "julia",
   "version": "1.9.3"
  }
 },
 "nbformat": 4,
 "nbformat_minor": 5
}
