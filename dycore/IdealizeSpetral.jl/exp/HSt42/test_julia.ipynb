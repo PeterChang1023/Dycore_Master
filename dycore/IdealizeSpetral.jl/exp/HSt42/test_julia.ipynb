{
 "cells": [
  {
   "cell_type": "code",
   "execution_count": 2,
   "id": "046d58c9-9731-4d49-9fa9-0ce88942ca92",
   "metadata": {},
   "outputs": [
    {
     "ename": "LoadError",
     "evalue": "MethodError: no method matching linear_interpolation(::Matrix{Float64}, ::Matrix{Float64})\n\n\u001b[0mClosest candidates are:\n\u001b[0m  linear_interpolation(\u001b[91m::Tuple{Vararg{AbstractRange, N}}\u001b[39m, ::AbstractArray{T, N}; extrapolation_bc) where {N, T}\n\u001b[0m\u001b[90m   @\u001b[39m \u001b[35mInterpolations\u001b[39m \u001b[90m~/.julia/packages/Interpolations/nDwIa/src/\u001b[39m\u001b[90m\u001b[4mconvenience-constructors.jl:23\u001b[24m\u001b[39m\n\u001b[0m  linear_interpolation(\u001b[91m::Tuple{Vararg{AbstractVector, N}}\u001b[39m, ::AbstractArray{T, N}; extrapolation_bc) where {N, T}\n\u001b[0m\u001b[90m   @\u001b[39m \u001b[35mInterpolations\u001b[39m \u001b[90m~/.julia/packages/Interpolations/nDwIa/src/\u001b[39m\u001b[90m\u001b[4mconvenience-constructors.jl:26\u001b[24m\u001b[39m\n",
     "output_type": "error",
     "traceback": [
      "MethodError: no method matching linear_interpolation(::Matrix{Float64}, ::Matrix{Float64})\n\n\u001b[0mClosest candidates are:\n\u001b[0m  linear_interpolation(\u001b[91m::Tuple{Vararg{AbstractRange, N}}\u001b[39m, ::AbstractArray{T, N}; extrapolation_bc) where {N, T}\n\u001b[0m\u001b[90m   @\u001b[39m \u001b[35mInterpolations\u001b[39m \u001b[90m~/.julia/packages/Interpolations/nDwIa/src/\u001b[39m\u001b[90m\u001b[4mconvenience-constructors.jl:23\u001b[24m\u001b[39m\n\u001b[0m  linear_interpolation(\u001b[91m::Tuple{Vararg{AbstractVector, N}}\u001b[39m, ::AbstractArray{T, N}; extrapolation_bc) where {N, T}\n\u001b[0m\u001b[90m   @\u001b[39m \u001b[35mInterpolations\u001b[39m \u001b[90m~/.julia/packages/Interpolations/nDwIa/src/\u001b[39m\u001b[90m\u001b[4mconvenience-constructors.jl:26\u001b[24m\u001b[39m\n",
      "",
      "Stacktrace:",
      " [1] LinearInterpolation(::Matrix{Float64}, ::Vararg{Matrix{Float64}}; kwargs::Base.Pairs{Symbol, Union{}, Tuple{}, NamedTuple{(), Tuple{}}})",
      "   @ Interpolations ./deprecated.jl:105",
      " [2] LinearInterpolation(::Matrix{Float64}, ::Vararg{Matrix{Float64}})",
      "   @ Interpolations ./deprecated.jl:103",
      " [3] top-level scope",
      "   @ In[2]:17"
     ]
    }
   ],
   "source": [
    "using Statistics\n",
    "using Interpolations\n",
    "\n",
    "x = zeros((2,4))\n",
    "x[1,2] = 3\n",
    "x[1,1] = 4\n",
    "# print(x)\n",
    "y = [11,2,3,10,23,42]\n",
    "y = ones((2,4))\n",
    "z = y\n",
    "z .= x .+ y\n",
    "# ifelse.(x.< 5, x, x.+10)\n",
    "# print(x[x .>5])\n",
    "# print(size(x))\n",
    "# print(size(mean(x[1:2,:], dims=1)))\n",
    "mean(filter(!isnan,x), dims=1)\n",
    "itp = LinearInterpolation(x, z)"
   ]
  },
  {
   "cell_type": "code",
   "execution_count": null,
   "id": "3862d1cb-af59-40d1-8a44-093d9797468c",
   "metadata": {},
   "outputs": [
    {
     "name": "stdout",
     "output_type": "stream",
     "text": [
      "Bool[0, 1, 1, 1, 1, 1]false"
     ]
    },
    {
     "ename": "LoadError",
     "evalue": "TypeError: non-boolean (BitVector) used in boolean context",
     "output_type": "error",
     "traceback": [
      "TypeError: non-boolean (BitVector) used in boolean context",
      "",
      "Stacktrace:",
      " [1] top-level scope",
      "   @ In[70]:3"
     ]
    }
   ],
   "source": [
    "print((x .>1))\n",
    "print(all(x .>1))\n",
    "if x .>1 in 5\n",
    "    x -= 1\n",
    "end"
   ]
  },
  {
   "cell_type": "code",
   "execution_count": null,
   "id": "1e5b2bfb-9638-4cb0-8766-34cc567fed69",
   "metadata": {},
   "outputs": [
    {
     "ename": "LoadError",
     "evalue": "TypeError: non-boolean (BitVector) used in boolean context",
     "output_type": "error",
     "traceback": [
      "TypeError: non-boolean (BitVector) used in boolean context",
      "",
      "Stacktrace:",
      " [1] top-level scope",
      "   @ In[61]:1"
     ]
    }
   ],
   "source": [
    "if (x.>1)\n",
    "    print(\"hi\")\n",
    "end"
   ]
  },
  {
   "cell_type": "code",
   "execution_count": null,
   "id": "6a2a0f47-e04b-4ccb-a02c-b9b38f71ad77",
   "metadata": {},
   "outputs": [
    {
     "ename": "LoadError",
     "evalue": "MethodError: no method matching extrapolate(::Tuple{StepRangeLen{Float64, Base.TwicePrecision{Float64}, Base.TwicePrecision{Float64}, Int64}, StepRangeLen{Float64, Base.TwicePrecision{Float64}, Base.TwicePrecision{Float64}, Int64}}, ::Matrix{Float64})\n\n\u001b[0mClosest candidates are:\n\u001b[0m  extrapolate(\u001b[91m::AbstractInterpolation{T, N, IT}\u001b[39m, ::Any) where {T, N, IT}\n\u001b[0m\u001b[90m   @\u001b[39m \u001b[35mInterpolations\u001b[39m \u001b[90m~/.julia/packages/Interpolations/nDwIa/src/extrapolation/\u001b[39m\u001b[90m\u001b[4mfilled.jl:28\u001b[24m\u001b[39m\n",
     "output_type": "error",
     "traceback": [
      "MethodError: no method matching extrapolate(::Tuple{StepRangeLen{Float64, Base.TwicePrecision{Float64}, Base.TwicePrecision{Float64}, Int64}, StepRangeLen{Float64, Base.TwicePrecision{Float64}, Base.TwicePrecision{Float64}, Int64}}, ::Matrix{Float64})\n\n\u001b[0mClosest candidates are:\n\u001b[0m  extrapolate(\u001b[91m::AbstractInterpolation{T, N, IT}\u001b[39m, ::Any) where {T, N, IT}\n\u001b[0m\u001b[90m   @\u001b[39m \u001b[35mInterpolations\u001b[39m \u001b[90m~/.julia/packages/Interpolations/nDwIa/src/extrapolation/\u001b[39m\u001b[90m\u001b[4mfilled.jl:28\u001b[24m\u001b[39m\n",
      "",
      "Stacktrace:",
      " [1] top-level scope",
      "   @ In[21]:8"
     ]
    }
   ],
   "source": [
    "using Interpolations\n",
    "# Data\n",
    "x = range(-2, 3, length=20)\n",
    "y = range(3, 4, length=10)\n",
    "z = @. cos(x) + sin(y')\n",
    "# Interpolation object (caches coefficients and such)\n",
    "\n",
    "itp = extrapolate((x, y), z)\n",
    "\n",
    "print(size(z))"
   ]
  },
  {
   "cell_type": "code",
   "execution_count": 5,
   "metadata": {},
   "outputs": [
    {
     "name": "stdout",
     "output_type": "stream",
     "text": [
      "[-2.243153802889313 -3.901597416909079 -3.2388082539880685 2.3773918107349035; 0.722090095577866 -0.8607772032827886 -1.797188506645672 0.47681130272588135]"
     ]
    }
   ],
   "source": [
    "# random(2)\n",
    "\n",
    "itp = interpolate(rand(2,4,5), BSpline(Linear()))\n",
    "etpf = extrapolate(itp, Linear())   # gives 1 on the left edge and 7 on the right edge\n",
    "# etp0 = extrapolate(itp, 0)        # gives 0 everywhere outside [1,7]\n",
    "print(etpf[:,:,-2] .- etpf[:,:,7])"
   ]
  },
  {
   "cell_type": "markdown",
   "metadata": {},
   "source": []
  }
 ],
 "metadata": {
  "kernelspec": {
   "display_name": "Julia 1.9.3",
   "language": "julia",
   "name": "julia-1.9"
  },
  "language_info": {
   "file_extension": ".jl",
   "mimetype": "application/julia",
   "name": "julia",
   "version": "1.9.3"
  }
 },
 "nbformat": 4,
 "nbformat_minor": 5
}
