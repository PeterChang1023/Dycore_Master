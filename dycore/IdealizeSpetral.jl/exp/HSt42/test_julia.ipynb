{
 "cells": [
  {
   "cell_type": "code",
   "execution_count": 1,
   "id": "046d58c9-9731-4d49-9fa9-0ce88942ca92",
   "metadata": {},
   "outputs": [
    {
     "name": "stdout",
     "output_type": "stream",
     "text": [
      "10987654321"
     ]
    }
   ],
   "source": [
    "using Statistics\n",
    "using Interpolations\n",
    "\n",
    "x = zeros((2,4))\n",
    "x[1,2] = 3\n",
    "x[1,1] = 4\n",
    "# print(x)\n",
    "y = [11,2,3,10,23,42]\n",
    "y = ones((2,4))\n",
    "z = y\n",
    "z .= x .+ y\n",
    "# ifelse.(x.< 5, x, x.+10)\n",
    "# print(x[x .>5])\n",
    "# print(size(x))\n",
    "# print(size(mean(x[1:2,:], dims=1)))\n",
    "# mean(filter(!isnan,x), dims=1)\n",
    "# itp = LinearInterpolation(x, z)\n",
    "for k in 10:-1:1\n",
    "    print(k)\n",
    "end"
   ]
  },
  {
   "cell_type": "code",
   "execution_count": 2,
   "id": "3862d1cb-af59-40d1-8a44-093d9797468c",
   "metadata": {},
   "outputs": [
    {
     "name": "stdout",
     "output_type": "stream",
     "text": [
      "Bool[1 1 0 0; 0 0 0 0]false"
     ]
    },
    {
     "ename": "LoadError",
     "evalue": "TypeError: non-boolean (BitMatrix) used in boolean context",
     "output_type": "error",
     "traceback": [
      "TypeError: non-boolean (BitMatrix) used in boolean context",
      "",
      "Stacktrace:",
      " [1] top-level scope",
      "   @ In[2]:3"
     ]
    }
   ],
   "source": [
    "print((x .>1))\n",
    "print(all(x .>1))\n",
    "if x .>1 in 5\n",
    "    x -= 1\n",
    "end"
   ]
  },
  {
   "cell_type": "code",
   "execution_count": null,
   "id": "1e5b2bfb-9638-4cb0-8766-34cc567fed69",
   "metadata": {},
   "outputs": [
    {
     "ename": "LoadError",
     "evalue": "TypeError: non-boolean (BitVector) used in boolean context",
     "output_type": "error",
     "traceback": [
      "TypeError: non-boolean (BitVector) used in boolean context",
      "",
      "Stacktrace:",
      " [1] top-level scope",
      "   @ In[61]:1"
     ]
    }
   ],
   "source": [
    "if (x.>1)\n",
    "    print(\"hi\")\n",
    "end"
   ]
  },
  {
   "cell_type": "code",
   "execution_count": null,
   "id": "6a2a0f47-e04b-4ccb-a02c-b9b38f71ad77",
   "metadata": {},
   "outputs": [
    {
     "ename": "LoadError",
     "evalue": "MethodError: no method matching extrapolate(::Tuple{StepRangeLen{Float64, Base.TwicePrecision{Float64}, Base.TwicePrecision{Float64}, Int64}, StepRangeLen{Float64, Base.TwicePrecision{Float64}, Base.TwicePrecision{Float64}, Int64}}, ::Matrix{Float64})\n\n\u001b[0mClosest candidates are:\n\u001b[0m  extrapolate(\u001b[91m::AbstractInterpolation{T, N, IT}\u001b[39m, ::Any) where {T, N, IT}\n\u001b[0m\u001b[90m   @\u001b[39m \u001b[35mInterpolations\u001b[39m \u001b[90m~/.julia/packages/Interpolations/nDwIa/src/extrapolation/\u001b[39m\u001b[90m\u001b[4mfilled.jl:28\u001b[24m\u001b[39m\n",
     "output_type": "error",
     "traceback": [
      "MethodError: no method matching extrapolate(::Tuple{StepRangeLen{Float64, Base.TwicePrecision{Float64}, Base.TwicePrecision{Float64}, Int64}, StepRangeLen{Float64, Base.TwicePrecision{Float64}, Base.TwicePrecision{Float64}, Int64}}, ::Matrix{Float64})\n\n\u001b[0mClosest candidates are:\n\u001b[0m  extrapolate(\u001b[91m::AbstractInterpolation{T, N, IT}\u001b[39m, ::Any) where {T, N, IT}\n\u001b[0m\u001b[90m   @\u001b[39m \u001b[35mInterpolations\u001b[39m \u001b[90m~/.julia/packages/Interpolations/nDwIa/src/extrapolation/\u001b[39m\u001b[90m\u001b[4mfilled.jl:28\u001b[24m\u001b[39m\n",
      "",
      "Stacktrace:",
      " [1] top-level scope",
      "   @ In[21]:8"
     ]
    }
   ],
   "source": [
    "using Interpolations\n",
    "# Data\n",
    "x = range(-2, 3, length=20)\n",
    "y = range(3, 4, length=10)\n",
    "z = @. cos(x) + sin(y')\n",
    "# Interpolation object (caches coefficients and such)\n",
    "\n",
    "itp = extrapolate((x, y), z)\n",
    "\n",
    "print(size(z))"
   ]
  },
  {
   "cell_type": "code",
   "execution_count": null,
   "metadata": {},
   "outputs": [
    {
     "ename": "LoadError",
     "evalue": "MethodError: no method matching linear_interpolation(::Vector{Int64}, ::Linear{Throw{OnGrid}})\n\n\u001b[0mClosest candidates are:\n\u001b[0m  linear_interpolation(::AbstractVector, \u001b[91m::AbstractVector\u001b[39m; extrapolation_bc)\n\u001b[0m\u001b[90m   @\u001b[39m \u001b[35mInterpolations\u001b[39m \u001b[90m~/.julia/packages/Interpolations/nDwIa/src/\u001b[39m\u001b[90m\u001b[4mconvenience-constructors.jl:9\u001b[24m\u001b[39m\n",
     "output_type": "error",
     "traceback": [
      "MethodError: no method matching linear_interpolation(::Vector{Int64}, ::Linear{Throw{OnGrid}})\n\n\u001b[0mClosest candidates are:\n\u001b[0m  linear_interpolation(::AbstractVector, \u001b[91m::AbstractVector\u001b[39m; extrapolation_bc)\n\u001b[0m\u001b[90m   @\u001b[39m \u001b[35mInterpolations\u001b[39m \u001b[90m~/.julia/packages/Interpolations/nDwIa/src/\u001b[39m\u001b[90m\u001b[4mconvenience-constructors.jl:9\u001b[24m\u001b[39m\n",
      "",
      "Stacktrace:",
      " [1] LinearInterpolation(::Vector{Int64}, ::Vararg{Any}; kwargs::Base.Pairs{Symbol, Union{}, Tuple{}, NamedTuple{(), Tuple{}}})",
      "   @ Interpolations ./deprecated.jl:105",
      " [2] LinearInterpolation(::Vector{Int64}, ::Vararg{Any})",
      "   @ Interpolations ./deprecated.jl:103",
      " [3] top-level scope",
      "   @ In[18]:4"
     ]
    }
   ],
   "source": [
    "# random(2)\n",
    "\n",
    "itp = interpolate([1,3,5], BSpline(Linear()))\n",
    "etpf = extrapolate(itp, Linear())   # gives 1 on the left edge and 7 on the right edge\n",
    "# etp0 = extrapolate(itp, 0)        # gives 0 everywhere outside [1,7]\n",
    "\n",
    "print((etpf[4]))"
   ]
  },
  {
   "cell_type": "code",
   "execution_count": 11,
   "metadata": {},
   "outputs": [
    {
     "data": {
      "text/plain": [
       "-0.06250000000000006"
      ]
     },
     "execution_count": 11,
     "metadata": {},
     "output_type": "execute_result"
    }
   ],
   "source": [
    "a = rand(2,4,5)\n",
    "itp = interpolate(a, BSpline(Cubic()))\n",
    "v = itp[1.5]"
   ]
  },
  {
   "cell_type": "code",
   "execution_count": 10,
   "metadata": {},
   "outputs": [
    {
     "name": "stdout",
     "output_type": "stream",
     "text": [
      "1.52.5"
     ]
    }
   ],
   "source": [
    "for i in 1.5:1:3\n",
    "    print(i)\n",
    "end"
   ]
  },
  {
   "cell_type": "markdown",
   "metadata": {},
   "source": []
  }
 ],
 "metadata": {
  "kernelspec": {
   "display_name": "Julia 1.9.3",
   "language": "julia",
   "name": "julia-1.9"
  },
  "language_info": {
   "file_extension": ".jl",
   "mimetype": "application/julia",
   "name": "julia",
   "version": "1.9.3"
  }
 },
 "nbformat": 4,
 "nbformat_minor": 5
}
